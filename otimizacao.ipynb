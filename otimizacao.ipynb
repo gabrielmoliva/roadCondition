{
 "cells": [
  {
   "cell_type": "markdown",
   "id": "b34f54c6",
   "metadata": {},
   "source": [
    "# Otimizações do pré-processamento e modelo obtidos no PIBIC"
   ]
  },
  {
   "cell_type": "code",
   "execution_count": 1,
   "id": "96c6260c",
   "metadata": {},
   "outputs": [
    {
     "data": {
      "text/html": [
       "<div>\n",
       "<style scoped>\n",
       "    .dataframe tbody tr th:only-of-type {\n",
       "        vertical-align: middle;\n",
       "    }\n",
       "\n",
       "    .dataframe tbody tr th {\n",
       "        vertical-align: top;\n",
       "    }\n",
       "\n",
       "    .dataframe thead th {\n",
       "        text-align: right;\n",
       "    }\n",
       "</style>\n",
       "<table border=\"1\" class=\"dataframe\">\n",
       "  <thead>\n",
       "    <tr style=\"text-align: right;\">\n",
       "      <th></th>\n",
       "      <th>index</th>\n",
       "      <th>acc_x_std</th>\n",
       "      <th>acc_y_std</th>\n",
       "      <th>acc_z_std</th>\n",
       "      <th>gyro_x_std</th>\n",
       "      <th>gyro_y_std</th>\n",
       "      <th>gyro_z_std</th>\n",
       "      <th>speed</th>\n",
       "      <th>good_road</th>\n",
       "    </tr>\n",
       "  </thead>\n",
       "  <tbody>\n",
       "    <tr>\n",
       "      <th>0</th>\n",
       "      <td>99</td>\n",
       "      <td>0.365116</td>\n",
       "      <td>0.165499</td>\n",
       "      <td>9.784384</td>\n",
       "      <td>-0.027084</td>\n",
       "      <td>0.026894</td>\n",
       "      <td>-0.029755</td>\n",
       "      <td>0.009128</td>\n",
       "      <td>1</td>\n",
       "    </tr>\n",
       "    <tr>\n",
       "      <th>1</th>\n",
       "      <td>100</td>\n",
       "      <td>0.364517</td>\n",
       "      <td>0.165499</td>\n",
       "      <td>9.781990</td>\n",
       "      <td>-0.027084</td>\n",
       "      <td>0.026894</td>\n",
       "      <td>-0.037384</td>\n",
       "      <td>0.009128</td>\n",
       "      <td>1</td>\n",
       "    </tr>\n",
       "    <tr>\n",
       "      <th>2</th>\n",
       "      <td>101</td>\n",
       "      <td>0.363320</td>\n",
       "      <td>0.165499</td>\n",
       "      <td>9.784384</td>\n",
       "      <td>-0.027084</td>\n",
       "      <td>0.026894</td>\n",
       "      <td>-0.037384</td>\n",
       "      <td>0.009128</td>\n",
       "      <td>1</td>\n",
       "    </tr>\n",
       "    <tr>\n",
       "      <th>3</th>\n",
       "      <td>102</td>\n",
       "      <td>0.362123</td>\n",
       "      <td>0.165499</td>\n",
       "      <td>9.784384</td>\n",
       "      <td>-0.027084</td>\n",
       "      <td>0.026894</td>\n",
       "      <td>-0.037384</td>\n",
       "      <td>0.009128</td>\n",
       "      <td>1</td>\n",
       "    </tr>\n",
       "    <tr>\n",
       "      <th>4</th>\n",
       "      <td>103</td>\n",
       "      <td>0.361524</td>\n",
       "      <td>0.166696</td>\n",
       "      <td>9.784384</td>\n",
       "      <td>-0.027084</td>\n",
       "      <td>0.026894</td>\n",
       "      <td>-0.052643</td>\n",
       "      <td>0.009128</td>\n",
       "      <td>1</td>\n",
       "    </tr>\n",
       "  </tbody>\n",
       "</table>\n",
       "</div>"
      ],
      "text/plain": [
       "   index  acc_x_std  acc_y_std  acc_z_std  gyro_x_std  gyro_y_std  gyro_z_std  \\\n",
       "0     99   0.365116   0.165499   9.784384   -0.027084    0.026894   -0.029755   \n",
       "1    100   0.364517   0.165499   9.781990   -0.027084    0.026894   -0.037384   \n",
       "2    101   0.363320   0.165499   9.784384   -0.027084    0.026894   -0.037384   \n",
       "3    102   0.362123   0.165499   9.784384   -0.027084    0.026894   -0.037384   \n",
       "4    103   0.361524   0.166696   9.784384   -0.027084    0.026894   -0.052643   \n",
       "\n",
       "      speed  good_road  \n",
       "0  0.009128          1  \n",
       "1  0.009128          1  \n",
       "2  0.009128          1  \n",
       "3  0.009128          1  \n",
       "4  0.009128          1  "
      ]
     },
     "execution_count": 1,
     "metadata": {},
     "output_type": "execute_result"
    }
   ],
   "source": [
    "import pandas as pd\n",
    "import numpy as np\n",
    "import sklearn as sk\n",
    "\n",
    "df = pd.read_csv('dataframe_janelado_median_100.csv')\n",
    "df.head()"
   ]
  },
  {
   "cell_type": "markdown",
   "id": "a34a5e18",
   "metadata": {},
   "source": [
    "Remoção da coluna de 'index' por questões de redundância"
   ]
  },
  {
   "cell_type": "code",
   "execution_count": 2,
   "id": "b269f266",
   "metadata": {},
   "outputs": [
    {
     "data": {
      "text/html": [
       "<div>\n",
       "<style scoped>\n",
       "    .dataframe tbody tr th:only-of-type {\n",
       "        vertical-align: middle;\n",
       "    }\n",
       "\n",
       "    .dataframe tbody tr th {\n",
       "        vertical-align: top;\n",
       "    }\n",
       "\n",
       "    .dataframe thead th {\n",
       "        text-align: right;\n",
       "    }\n",
       "</style>\n",
       "<table border=\"1\" class=\"dataframe\">\n",
       "  <thead>\n",
       "    <tr style=\"text-align: right;\">\n",
       "      <th></th>\n",
       "      <th>acc_x_std</th>\n",
       "      <th>acc_y_std</th>\n",
       "      <th>acc_z_std</th>\n",
       "      <th>gyro_x_std</th>\n",
       "      <th>gyro_y_std</th>\n",
       "      <th>gyro_z_std</th>\n",
       "      <th>speed</th>\n",
       "      <th>good_road</th>\n",
       "    </tr>\n",
       "  </thead>\n",
       "  <tbody>\n",
       "    <tr>\n",
       "      <th>0</th>\n",
       "      <td>0.365116</td>\n",
       "      <td>0.165499</td>\n",
       "      <td>9.784384</td>\n",
       "      <td>-0.027084</td>\n",
       "      <td>0.026894</td>\n",
       "      <td>-0.029755</td>\n",
       "      <td>0.009128</td>\n",
       "      <td>1</td>\n",
       "    </tr>\n",
       "    <tr>\n",
       "      <th>1</th>\n",
       "      <td>0.364517</td>\n",
       "      <td>0.165499</td>\n",
       "      <td>9.781990</td>\n",
       "      <td>-0.027084</td>\n",
       "      <td>0.026894</td>\n",
       "      <td>-0.037384</td>\n",
       "      <td>0.009128</td>\n",
       "      <td>1</td>\n",
       "    </tr>\n",
       "    <tr>\n",
       "      <th>2</th>\n",
       "      <td>0.363320</td>\n",
       "      <td>0.165499</td>\n",
       "      <td>9.784384</td>\n",
       "      <td>-0.027084</td>\n",
       "      <td>0.026894</td>\n",
       "      <td>-0.037384</td>\n",
       "      <td>0.009128</td>\n",
       "      <td>1</td>\n",
       "    </tr>\n",
       "    <tr>\n",
       "      <th>3</th>\n",
       "      <td>0.362123</td>\n",
       "      <td>0.165499</td>\n",
       "      <td>9.784384</td>\n",
       "      <td>-0.027084</td>\n",
       "      <td>0.026894</td>\n",
       "      <td>-0.037384</td>\n",
       "      <td>0.009128</td>\n",
       "      <td>1</td>\n",
       "    </tr>\n",
       "    <tr>\n",
       "      <th>4</th>\n",
       "      <td>0.361524</td>\n",
       "      <td>0.166696</td>\n",
       "      <td>9.784384</td>\n",
       "      <td>-0.027084</td>\n",
       "      <td>0.026894</td>\n",
       "      <td>-0.052643</td>\n",
       "      <td>0.009128</td>\n",
       "      <td>1</td>\n",
       "    </tr>\n",
       "  </tbody>\n",
       "</table>\n",
       "</div>"
      ],
      "text/plain": [
       "   acc_x_std  acc_y_std  acc_z_std  gyro_x_std  gyro_y_std  gyro_z_std  \\\n",
       "0   0.365116   0.165499   9.784384   -0.027084    0.026894   -0.029755   \n",
       "1   0.364517   0.165499   9.781990   -0.027084    0.026894   -0.037384   \n",
       "2   0.363320   0.165499   9.784384   -0.027084    0.026894   -0.037384   \n",
       "3   0.362123   0.165499   9.784384   -0.027084    0.026894   -0.037384   \n",
       "4   0.361524   0.166696   9.784384   -0.027084    0.026894   -0.052643   \n",
       "\n",
       "      speed  good_road  \n",
       "0  0.009128          1  \n",
       "1  0.009128          1  \n",
       "2  0.009128          1  \n",
       "3  0.009128          1  \n",
       "4  0.009128          1  "
      ]
     },
     "execution_count": 2,
     "metadata": {},
     "output_type": "execute_result"
    }
   ],
   "source": [
    "df = df.drop(['index'], axis=1)\n",
    "df.head()"
   ]
  },
  {
   "cell_type": "markdown",
   "id": "03ff09a5",
   "metadata": {},
   "source": [
    "Analisando o dataframe por completo"
   ]
  },
  {
   "cell_type": "code",
   "execution_count": 3,
   "id": "f4bd078a",
   "metadata": {},
   "outputs": [
    {
     "name": "stdout",
     "output_type": "stream",
     "text": [
      "<class 'pandas.core.frame.DataFrame'>\n",
      "RangeIndex: 1080806 entries, 0 to 1080805\n",
      "Data columns (total 8 columns):\n",
      " #   Column      Non-Null Count    Dtype  \n",
      "---  ------      --------------    -----  \n",
      " 0   acc_x_std   1080806 non-null  float64\n",
      " 1   acc_y_std   1080806 non-null  float64\n",
      " 2   acc_z_std   1080806 non-null  float64\n",
      " 3   gyro_x_std  1080806 non-null  float64\n",
      " 4   gyro_y_std  1080806 non-null  float64\n",
      " 5   gyro_z_std  1080806 non-null  float64\n",
      " 6   speed       1080806 non-null  float64\n",
      " 7   good_road   1080806 non-null  int64  \n",
      "dtypes: float64(7), int64(1)\n",
      "memory usage: 66.0 MB\n"
     ]
    }
   ],
   "source": [
    "df.info()"
   ]
  },
  {
   "cell_type": "markdown",
   "id": "d05c8b1f",
   "metadata": {},
   "source": [
    "Modelo com todas as colunas"
   ]
  },
  {
   "cell_type": "code",
   "execution_count": 4,
   "id": "a8acf06c",
   "metadata": {},
   "outputs": [
    {
     "name": "stdout",
     "output_type": "stream",
     "text": [
      "0.9997841118670623\n"
     ]
    }
   ],
   "source": [
    "from sklearn.ensemble import ExtraTreesClassifier\n",
    "from sklearn.model_selection import train_test_split\n",
    "\n",
    "clf = ExtraTreesClassifier()\n",
    "X = df.drop(['good_road'], axis=1)\n",
    "y = df['good_road']\n",
    "\n",
    "X_train, X_test, y_train, y_test = train_test_split(X, y, test_size=0.3)\n",
    "\n",
    "clf.fit(X_train, y_train)\n",
    "print(clf.score(X_test, y_test))"
   ]
  },
  {
   "cell_type": "markdown",
   "id": "eb9c1b75",
   "metadata": {},
   "source": [
    "Testando o modelo sem a coluna de velocidade"
   ]
  },
  {
   "cell_type": "code",
   "execution_count": 5,
   "id": "a6a7877c",
   "metadata": {},
   "outputs": [
    {
     "name": "stdout",
     "output_type": "stream",
     "text": [
      "0.9938317676303502\n"
     ]
    }
   ],
   "source": [
    "df2 = df.drop(['speed'], axis=1)\n",
    "\n",
    "X = df2.drop(['good_road'], axis=1)\n",
    "y = df2['good_road']\n",
    "\n",
    "X_train, X_test, y_train, y_test = train_test_split(X, y, test_size=0.3)\n",
    "\n",
    "clf.fit(X_train, y_train)\n",
    "print(clf.score(X_test, y_test))"
   ]
  },
  {
   "cell_type": "markdown",
   "id": "5b2c8759",
   "metadata": {},
   "source": [
    "Testando só com acelerômetro"
   ]
  },
  {
   "cell_type": "code",
   "execution_count": 6,
   "id": "65e75e54",
   "metadata": {},
   "outputs": [
    {
     "name": "stdout",
     "output_type": "stream",
     "text": [
      "0.9388142190092585\n"
     ]
    }
   ],
   "source": [
    "df3 = df.drop(['speed', 'gyro_x_std', 'gyro_y_std', 'gyro_z_std'], axis=1)\n",
    "\n",
    "X = df3.drop(['good_road'], axis=1)\n",
    "y = df3['good_road']\n",
    "\n",
    "X_train, X_test, y_train, y_test = train_test_split(X, y, test_size=0.3)\n",
    "\n",
    "clf.fit(X_train, y_train)\n",
    "print(clf.score(X_test, y_test))"
   ]
  },
  {
   "cell_type": "markdown",
   "id": "e89d68cf",
   "metadata": {},
   "source": [
    "Com acelerômetro e velocidade"
   ]
  },
  {
   "cell_type": "code",
   "execution_count": 7,
   "id": "985dea5e",
   "metadata": {},
   "outputs": [
    {
     "name": "stdout",
     "output_type": "stream",
     "text": [
      "0.9995898125474183\n"
     ]
    }
   ],
   "source": [
    "df4 = df.drop(['gyro_x_std', 'gyro_y_std', 'gyro_z_std'], axis=1)\n",
    "\n",
    "X = df4.drop(['good_road'], axis=1)\n",
    "y = df4['good_road']\n",
    "\n",
    "X_train, X_test, y_train, y_test = train_test_split(X, y, test_size=0.3)\n",
    "\n",
    "clf.fit(X_train, y_train)\n",
    "print(clf.score(X_test, y_test))"
   ]
  },
  {
   "cell_type": "markdown",
   "id": "276bf7e1",
   "metadata": {},
   "source": [
    "Comparando df com df4"
   ]
  },
  {
   "cell_type": "code",
   "execution_count": 8,
   "id": "aea246d0",
   "metadata": {},
   "outputs": [
    {
     "name": "stdout",
     "output_type": "stream",
     "text": [
      "===================\n",
      "Dataset completo\n",
      "Acurácia média:  0.9997686912861381\n",
      "Classification report:\n",
      "               precision    recall  f1-score   support\n",
      "\n",
      "           0     0.9997    0.9999    0.9998    187181\n",
      "           1     0.9998    0.9997    0.9997    137061\n",
      "\n",
      "    accuracy                         0.9998    324242\n",
      "   macro avg     0.9998    0.9998    0.9998    324242\n",
      "weighted avg     0.9998    0.9998    0.9998    324242\n",
      "\n"
     ]
    },
    {
     "data": {
      "image/png": "[encoded data removed]",
      "text/plain": [
       "<Figure size 640x480 with 2 Axes>"
      ]
     },
     "metadata": {},
     "output_type": "display_data"
    },
    {
     "name": "stdout",
     "output_type": "stream",
     "text": [
      "AUC score da ROC Curve:  0.999753749579183\n"
     ]
    },
    {
     "data": {
      "image/png": "[encoded data removed]",
      "text/plain": [
       "<Figure size 640x480 with 1 Axes>"
      ]
     },
     "metadata": {},
     "output_type": "display_data"
    }
   ],
   "source": [
    "from sklearn.model_selection import cross_val_score\n",
    "from sklearn.metrics import confusion_matrix, classification_report, RocCurveDisplay, roc_auc_score, ConfusionMatrixDisplay\n",
    "import matplotlib.pyplot as plt\n",
    "\n",
    "print('===================\\nDataset completo')\n",
    "X = df.drop(['good_road'], axis=1)\n",
    "y = df['good_road']\n",
    "X_train, X_test, y_train, y_test = train_test_split(X, y, test_size=0.3)\n",
    "\n",
    "clf.fit(X_train, y_train)\n",
    "y_pred = clf.predict(X_test)\n",
    "\n",
    "print('Acurácia média: ', clf.score(X_test, y_test))\n",
    "print('Classification report:\\n', classification_report(y_test, y_pred, digits=4))\n",
    "\n",
    "conf_mat = confusion_matrix(y_test, y_pred)     # Criando a matriz de confusao\n",
    "disp = ConfusionMatrixDisplay(conf_mat)         # Criando o display pra matriz\n",
    "disp.plot()                                     # Plotando o display\n",
    "plt.show()                                      # Mostrando o plot com matplotlib\n",
    "\n",
    "print('AUC score da ROC Curve: ', roc_auc_score(y_test, y_pred))\n",
    "RocCurveDisplay.from_estimator(clf, X, y)\n",
    "plt.show()"
   ]
  },
  {
   "cell_type": "code",
   "execution_count": 9,
   "id": "4e3e1d15",
   "metadata": {},
   "outputs": [
    {
     "name": "stdout",
     "output_type": "stream",
     "text": [
      "===================\n",
      "Dataset só com acelerômetro e velocidade\n",
      "Acurácia média:  0.9995373825722763\n",
      "Classification report:\n",
      "               precision    recall  f1-score   support\n",
      "\n",
      "           0     0.9994    0.9998    0.9996    187112\n",
      "           1     0.9997    0.9992    0.9995    137130\n",
      "\n",
      "    accuracy                         0.9995    324242\n",
      "   macro avg     0.9996    0.9995    0.9995    324242\n",
      "weighted avg     0.9995    0.9995    0.9995    324242\n",
      "\n"
     ]
    },
    {
     "data": {
      "image/png": "[encoded data removed]",
      "text/plain": [
       "<Figure size 640x480 with 2 Axes>"
      ]
     },
     "metadata": {},
     "output_type": "display_data"
    },
    {
     "name": "stdout",
     "output_type": "stream",
     "text": [
      "AUC score da ROC Curve:  0.9994969027730409\n"
     ]
    },
    {
     "data": {
      "image/png": "[encoded data removed]",
      "text/plain": [
       "<Figure size 640x480 with 1 Axes>"
      ]
     },
     "metadata": {},
     "output_type": "display_data"
    }
   ],
   "source": [
    "print('===================\\nDataset só com acelerômetro e velocidade')\n",
    "X = df4.drop(['good_road'], axis=1)\n",
    "y = df4['good_road']\n",
    "X_train, X_test, y_train, y_test = train_test_split(X, y, test_size=0.3)\n",
    "\n",
    "clf.fit(X_train, y_train)\n",
    "y_pred = clf.predict(X_test)\n",
    "\n",
    "print('Acurácia média: ', clf.score(X_test, y_test))\n",
    "print('Classification report:\\n', classification_report(y_test, y_pred, digits=4))\n",
    "\n",
    "conf_mat = confusion_matrix(y_test, y_pred)     # Criando a matriz de confusao\n",
    "disp = ConfusionMatrixDisplay(conf_mat)         # Criando o display pra matriz\n",
    "disp.plot()                                     # Plotando o display\n",
    "plt.show()                                      # Mostrando o plot com matplotlib\n",
    "\n",
    "print('AUC score da ROC Curve: ', roc_auc_score(y_test, y_pred))\n",
    "RocCurveDisplay.from_estimator(clf, X, y)\n",
    "plt.show()"
   ]
  },
  {
   "cell_type": "markdown",
   "id": "6b10cbc0",
   "metadata": {},
   "source": [
    "Otimizando os hiperparâmetros do classificador"
   ]
  },
  {
   "cell_type": "code",
   "execution_count": 12,
   "id": "00131212",
   "metadata": {},
   "outputs": [
    {
     "name": "stdout",
     "output_type": "stream",
     "text": [
      "Fitting 3 folds for each of 108 candidates, totalling 324 fits\n",
      "ExtraTreesClassifier(criterion='entropy', max_features=4)\n"
     ]
    }
   ],
   "source": [
    "from sklearn.model_selection import RandomizedSearchCV, GridSearchCV, KFold\n",
    "\n",
    "param = {\n",
    "    'n_estimators': [100, 200, 500],\n",
    "    'criterion': ['gini', 'entropy', 'log_loss'],\n",
    "    'max_depth': [None],\n",
    "    'min_samples_leaf': [1, 10, 20],\n",
    "    'max_features': ['log2', 'sqrt', 2, 4]\n",
    "}\n",
    "\n",
    "X = df.drop(['good_road'], axis=1)\n",
    "y = df['good_road']\n",
    "\n",
    "clf = GridSearchCV(ExtraTreesClassifier(), param_grid=param, cv=KFold(n_splits=3, shuffle=True), verbose=3, n_jobs=-1)\n",
    "clf.fit(X, y)\n",
    "print(clf.best_estimator_)"
   ]
  },
  {
   "cell_type": "markdown",
   "id": "ba0a086a",
   "metadata": {},
   "source": [
    "Testando os hiperparâmetros (criterion='entropy', max_features=4)"
   ]
  },
  {
   "cell_type": "code",
   "execution_count": null,
   "id": "29a08a7e",
   "metadata": {},
   "outputs": [],
   "source": [
    "clf = ExtraTreesClassifier(criterion='entropy', max_features=4)\n",
    "clf.fit(X, y)\n",
    "\n",
    "X_train, X_test, y_train, y_test = train_test_split(X, y, test_size=0.3)\n",
    "\n",
    "clf.fit(X_train, y_train)\n",
    "y_pred = clf.predict(X_test)\n",
    "\n",
    "print('Acurácia média: ', clf.score(X_test, y_test))\n",
    "print('Classification report:\\n', classification_report(y_test, y_pred, digits=4))\n",
    "\n",
    "conf_mat = confusion_matrix(y_test, y_pred)     # Criando a matriz de confusao\n",
    "disp = ConfusionMatrixDisplay(conf_mat)         # Criando o display pra matriz\n",
    "disp.plot()                                     # Plotando o display\n",
    "plt.show()                                      # Mostrando o plot com matplotlib\n",
    "\n",
    "print('AUC score da ROC Curve: ', roc_auc_score(y_test, y_pred))\n",
    "RocCurveDisplay.from_estimator(clf, X, y)\n",
    "plt.show()"
   ]
  }
 ],
 "metadata": {
  "kernelspec": {
   "display_name": "Python 3",
   "language": "python",
   "name": "python3"
  },
  "language_info": {
   "codemirror_mode": {
    "name": "ipython",
    "version": 3
   },
   "file_extension": ".py",
   "mimetype": "text/x-python",
   "name": "python",
   "nbconvert_exporter": "python",
   "pygments_lexer": "ipython3",
   "version": "3.12.10"
  }
 },
 "nbformat": 4,
 "nbformat_minor": 5
}
